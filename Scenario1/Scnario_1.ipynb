{
 "cells": [
  {
   "cell_type": "code",
   "execution_count": 1,
   "id": "c8dcf479",
   "metadata": {},
   "outputs": [],
   "source": [
    "import json\n",
    "import os"
   ]
  },
  {
   "cell_type": "code",
   "execution_count": 2,
   "id": "4f1b0179",
   "metadata": {},
   "outputs": [],
   "source": [
    "folder_path = \"C:\\\\Users\\\\HP\\\\python\""
   ]
  },
  {
   "cell_type": "code",
   "execution_count": 5,
   "id": "a8db56ec",
   "metadata": {},
   "outputs": [],
   "source": [
    "for filename in os.listdir(folder_path):\n",
    "    if filename.endswith(\".json\"):\n",
    "        json_path = os.path.join(folder_path, filename)\n",
    "\n",
    "        with open(json_path) as file:\n",
    "            data = json.load(file)\n",
    "\n",
    "            formatted_data = [{\n",
    "                \"dataset_name\": filename,\n",
    "                \"image_link\": \"\",\n",
    "                \"annotation_type\": \"image\",\n",
    "                \"annotation_objects\": {\n",
    "                    \"vehicle\": {\n",
    "                        \"presence\": 0 if \"Vehicle\" not in obj[\"classTitle\"] else 1,\n",
    "                        \"bbox\": obj[\"points\"][\"exterior\"]\n",
    "                    },\n",
    "                    \"license_plate\": {\n",
    "                        \"presence\": 0 if \"License Plate\" not in obj[\"classTitle\"] else 1,\n",
    "                        \"bbox\": obj[\"points\"][\"exterior\"]\n",
    "                    }\n",
    "                },\n",
    "                \"annotation_attributes\": {\n",
    "                    \"vehicle\": {\n",
    "                        \"Type\": next((tag[\"value\"] for tag in obj[\"tags\"] if tag[\"name\"] == \"Type\"), None),\n",
    "                        \"Pose\": next((tag[\"value\"] for tag in obj[\"tags\"] if tag[\"name\"] == \"Pose\"), None),\n",
    "                        \"Model\": next((tag[\"value\"] for tag in obj[\"tags\"] if tag[\"name\"] == \"Model\"), None),\n",
    "                        \"Make\": next((tag[\"value\"] for tag in obj[\"tags\"] if tag[\"name\"] == \"Make\"), None),\n",
    "                        \"Color\": next((tag[\"value\"] for tag in obj[\"tags\"] if tag[\"name\"] == \"Color\"), None)\n",
    "                    },\n",
    "                    \"license_plate\": {\n",
    "                        \"Difficulty Score\": next((tag[\"value\"] for tag in obj[\"tags\"] if tag[\"name\"] == \"Difficulty Score\"), None),\n",
    "                        \"Value\": next((tag[\"value\"] for tag in obj[\"tags\"] if tag[\"name\"] == \"Value\"), None),\n",
    "                        \"Occlusion\": None\n",
    "                    }\n",
    "                }\n",
    "            } for obj in data[\"objects\"]]\n",
    "            \n",
    "        formatted_json_path = os.path.join(folder_path, \"formatted_\" + filename)\n",
    "        with open(formatted_json_path, \"w\") as formatted_file:\n",
    "            json.dump(formatted_data, formatted_file, indent=4)\n"
   ]
  },
  {
   "cell_type": "code",
   "execution_count": null,
   "id": "377a2f0e",
   "metadata": {},
   "outputs": [],
   "source": []
  }
 ],
 "metadata": {
  "kernelspec": {
   "display_name": "Python 3 (ipykernel)",
   "language": "python",
   "name": "python3"
  },
  "language_info": {
   "codemirror_mode": {
    "name": "ipython",
    "version": 3
   },
   "file_extension": ".py",
   "mimetype": "text/x-python",
   "name": "python",
   "nbconvert_exporter": "python",
   "pygments_lexer": "ipython3",
   "version": "3.9.12"
  }
 },
 "nbformat": 4,
 "nbformat_minor": 5
}
