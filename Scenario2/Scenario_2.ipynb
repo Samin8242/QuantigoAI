{
 "cells": [
  {
   "cell_type": "code",
   "execution_count": null,
   "id": "11196ce7",
   "metadata": {},
   "outputs": [],
   "source": [
    "import json\n",
    "import os"
   ]
  },
  {
   "cell_type": "code",
   "execution_count": null,
   "id": "6e8bb091",
   "metadata": {},
   "outputs": [],
   "source": [
    "folder_path = \"C:\\\\Users\\\\HP\\\\python\"  \n",
    "output_file = 'combined.json'  "
   ]
  },
  {
   "cell_type": "code",
   "execution_count": null,
   "id": "6ff68cd6",
   "metadata": {},
   "outputs": [],
   "source": [
    "combined_data = {\n",
    "    \"description\": \"\",\n",
    "    \"tags\": [],\n",
    "    \"size\": {\n",
    "        \"height\": 720,\n",
    "        \"width\": 1280\n",
    "    },\n",
    "    \"objects\": []\n",
    "}\n"
   ]
  },
  {
   "cell_type": "code",
   "execution_count": null,
   "id": "a46e4b67",
   "metadata": {},
   "outputs": [],
   "source": [
    "for file_name in os.listdir(folder_path):\n",
    "    if file_name.endswith('.json'):\n",
    "        file_path = os.path.join(folder_path, file_name)\n",
    "        with open(file_path, 'r') as json_file:\n",
    "            data = json.load(json_file)\n",
    "            combined_data[\"objects\"].extend(data[\"objects\"])\n"
   ]
  },
  {
   "cell_type": "code",
   "execution_count": null,
   "id": "1203022f",
   "metadata": {},
   "outputs": [],
   "source": [
    "for obj in combined_data[\"objects\"]:\n",
    "    if obj[\"classTitle\"] == \"Vehicle\":\n",
    "        obj[\"classTitle\"] = \"Car\"\n",
    "    elif obj[\"classTitle\"] == \"License Plate\":\n",
    "        obj[\"classTitle\"] = \"Number\""
   ]
  },
  {
   "cell_type": "code",
   "execution_count": null,
   "id": "d0226d4b",
   "metadata": {},
   "outputs": [],
   "source": [
    "with open(output_file, 'w') as output_json:\n",
    "    json.dump(combined_data, output_json)"
   ]
  }
 ],
 "metadata": {
  "kernelspec": {
   "display_name": "Python 3 (ipykernel)",
   "language": "python",
   "name": "python3"
  },
  "language_info": {
   "codemirror_mode": {
    "name": "ipython",
    "version": 3
   },
   "file_extension": ".py",
   "mimetype": "text/x-python",
   "name": "python",
   "nbconvert_exporter": "python",
   "pygments_lexer": "ipython3",
   "version": "3.9.12"
  }
 },
 "nbformat": 4,
 "nbformat_minor": 5
}
